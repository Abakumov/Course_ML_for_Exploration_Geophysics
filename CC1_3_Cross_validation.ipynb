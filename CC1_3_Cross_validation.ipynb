{
 "cells": [
  {
   "cell_type": "markdown",
   "metadata": {},
   "source": [
    "# Short Course: Machine Learning for Exploration Geophysics\n",
    "\n",
    "Hamburg, 10. - 12. March 2020\n",
    "\n",
    "#### Computer Class 1.3: Cross validation and Hyperparameter search\n",
    "\n",
    "Table of Content:\n",
    "- [Packages](#Packages)\n",
    "- [Import and preprocess the dataset](#Import-and-preprocess-the-dataset)\n",
    "- [k-Fold Cross-Validation](#k-Fold-Cross-Validation)\n",
    "- [Evaluate a score by cross-validation](#Evaluate-a-score-by-cross-validation)\n",
    "- [Tuning the hyper-parameters of an estimator](#Tuning-the-hyper-parameters-of-an-estimator)\n",
    "- [Combine all together](#Combine-all-together)"
   ]
  },
  {
   "cell_type": "markdown",
   "metadata": {},
   "source": [
    "## Packages\n",
    "\n",
    "Let's first import all the packages: \n",
    "- [numpy](https://www.numpy.org/) is the fundamental package for scientific computing with Python.\n",
    "- [pandas](https://pandas.pydata.org/) is a software library for data manipulation and analysis.\n",
    "- [matplotlib](https://matplotlib.org/) is a comprehensive library for creating static, animated, and interactive visualizations in Python.\n",
    "- [seaborn](https://seaborn.pydata.org/) is a statistical data visualization library based on matplotlib.\n",
    "- [scikit-learn](https://scikit-learn.org/stable/) is a simple and efficient tools for predictive data analysis."
   ]
  },
  {
   "cell_type": "code",
   "execution_count": 1,
   "metadata": {},
   "outputs": [],
   "source": [
    "#!pip install pandas\n",
    "#!pip install -U scikit-learn\n",
    "\n",
    "#!python -m pip install -U pip\n",
    "#!python -m pip install -U matplotlib\n",
    "\n",
    "#!pip install pandas\n",
    "\n",
    "#!pip install seaborn"
   ]
  },
  {
   "cell_type": "code",
   "execution_count": 2,
   "metadata": {},
   "outputs": [
    {
     "name": "stdout",
     "output_type": "stream",
     "text": [
      "Pandas:  0.24.2\n",
      "Numpy:   1.17.4\n",
      "Sklearn: 0.22.2.post1\n"
     ]
    }
   ],
   "source": [
    "import numpy as np\n",
    "import pandas as pd\n",
    "import matplotlib as mpl\n",
    "import matplotlib.pyplot as plt\n",
    "import seaborn as sns\n",
    "import sklearn\n",
    "\n",
    "from sklearn.model_selection import train_test_split\n",
    "from sklearn.preprocessing import StandardScaler\n",
    "from sklearn.linear_model import LinearRegression\n",
    "from sklearn.metrics import mean_squared_error\n",
    "\n",
    "from sklearn.preprocessing import PolynomialFeatures\n",
    "from sklearn.pipeline import make_pipeline\n",
    "\n",
    "from sklearn.linear_model import Ridge\n",
    "from sklearn.linear_model import Lasso\n",
    "from sklearn.linear_model import ElasticNet\n",
    "from sklearn.linear_model import RidgeCV\n",
    "\n",
    "from sklearn.model_selection import KFold\n",
    "from sklearn.model_selection import cross_val_score\n",
    "from sklearn.model_selection import GridSearchCV\n",
    "\n",
    "import warnings\n",
    "warnings.filterwarnings('ignore')\n",
    "\n",
    "print('Pandas:  ' + pd.__version__)\n",
    "print('Numpy:   ' + np.__version__)\n",
    "print('Sklearn: ' + sklearn.__version__)"
   ]
  },
  {
   "cell_type": "markdown",
   "metadata": {},
   "source": [
    "## Import and preprocess the dataset"
   ]
  },
  {
   "cell_type": "code",
   "execution_count": 3,
   "metadata": {},
   "outputs": [],
   "source": [
    "df = pd.read_csv('data/berlin_flat_price.csv')\n",
    "df['Price'] = df['Price']/1000;  # in 1000s euro\n",
    "\n",
    "X = df[['Size']].values\n",
    "y = df['Price'].values    \n",
    "\n",
    "scaler = StandardScaler()\n",
    "scaler.fit(X)\n",
    "X_scaled = scaler.transform(X)\n",
    "\n",
    "#X_scaled.mean()\n",
    "#X_scaled.std()\n",
    "\n",
    "X_train, X_test, y_train, y_test = train_test_split(X, y, test_size=0.2, random_state=1, shuffle=False)"
   ]
  },
  {
   "cell_type": "markdown",
   "metadata": {},
   "source": [
    "## k-Fold Cross-Validation\n",
    "\n",
    "See [a Gentle Introduction to k-fold Cross-Validation](https://machinelearningmastery.com/k-fold-cross-validation/), but in short the general procedure is as follows:\n",
    "\n",
    "- Shuffle the dataset randomly.\n",
    "- Split the dataset into k groups\n",
    "- For each unique group:\n",
    "    - Take the group as a hold out or test data set\n",
    "    - Take the remaining groups as a training data set\n",
    "    - Fit a model on the training set and evaluate it on the test set\n",
    "    - Retain the evaluation score and discard the model\n",
    "- Summarize the skill of the model using the sample of model evaluation scores\n",
    "\n",
    "[KFold](https://scikit-learn.org/stable/modules/generated/sklearn.model_selection.KFold.html) provides train/test indices to split data in train/test sets. Split dataset into k consecutive folds (without shuffling by default)."
   ]
  },
  {
   "cell_type": "code",
   "execution_count": 4,
   "metadata": {},
   "outputs": [
    {
     "name": "stdout",
     "output_type": "stream",
     "text": [
      "train: [0. 1. 2. 3. 4. 5. 6. 9.], test: [7. 8.]\n",
      "train: [0. 1. 3. 4. 5. 7. 8. 9.], test: [2. 6.]\n",
      "train: [0. 1. 2. 3. 6. 7. 8. 9.], test: [4. 5.]\n",
      "train: [0. 2. 4. 5. 6. 7. 8. 9.], test: [1. 3.]\n",
      "train: [1. 2. 3. 4. 5. 6. 7. 8.], test: [0. 9.]\n"
     ]
    }
   ],
   "source": [
    "kfold = KFold(n_splits=5, shuffle=True, random_state=11)\n",
    "\n",
    "data = np.linspace(0,9,10)\n",
    "\n",
    "for ind_train, ind_test in kfold.split(data):\n",
    "    print('train: %s, test: %s' % (data[ind_train], data[ind_test]))"
   ]
  },
  {
   "cell_type": "markdown",
   "metadata": {},
   "source": [
    "## Evaluate a score by cross-validation\n",
    "\n",
    "Function [cross_val_score](https://scikit-learn.org/stable/modules/generated/sklearn.model_selection.cross_val_score.html) evaluates 'estimator' by k-fold cross-validation"
   ]
  },
  {
   "cell_type": "code",
   "execution_count": 5,
   "metadata": {},
   "outputs": [
    {
     "name": "stdout",
     "output_type": "stream",
     "text": [
      "K-fold CV average score: 0.81\n",
      "[0.85407685 0.84879132 0.78849311 0.86646394 0.66781065]\n"
     ]
    }
   ],
   "source": [
    "reg = ElasticNet()\n",
    "\n",
    "kfold = KFold(n_splits=5, shuffle=True)\n",
    "scores = cross_val_score(estimator = reg, X = X_train, y = y_train, cv = kfold, scoring='r2')\n",
    "print(\"K-fold CV average score: %.2f\" % scores.mean())\n",
    "print(scores)"
   ]
  },
  {
   "cell_type": "markdown",
   "metadata": {},
   "source": [
    "## Tuning the hyper-parameters of an estimator\n",
    "\n",
    "The grid search provided by [GridSearchCV](https://scikit-learn.org/stable/modules/generated/sklearn.model_selection.GridSearchCV.html#sklearn.model_selection.GridSearchCV) exhaustively generates candidates from a grid of parameter values specified with the 'param_grid' parameter.\n",
    "\n",
    "While using a grid of parameter settings is currently the most widely used method for parameter optimization, other search methods have more favourable properties. [RandomizedSearchCV](https://scikit-learn.org/stable/modules/generated/sklearn.model_selection.RandomizedSearchCV.html#sklearn.model_selection.RandomizedSearchCV) implements a randomized search over parameters, where each setting is sampled from a distribution over possible parameter values."
   ]
  },
  {
   "cell_type": "code",
   "execution_count": 6,
   "metadata": {},
   "outputs": [],
   "source": [
    "param_grid = [{'alpha': [1, 10, 100], 'l1_ratio': [0.8, 0.9, 1.0, 1.1, 1.2, 1.3, 1.4, 1.5, 1.6]}]\n",
    "\n",
    "kfold = KFold(n_splits=5, shuffle=True)\n",
    "grid = GridSearchCV(estimator = reg, \n",
    "                        param_grid = param_grid, \n",
    "                        scoring='r2', \n",
    "                        cv = kfold, \n",
    "                        n_jobs = -1)\n",
    "\n",
    "grid = grid.fit(X_train, y_train)"
   ]
  },
  {
   "cell_type": "code",
   "execution_count": 7,
   "metadata": {},
   "outputs": [
    {
     "name": "stdout",
     "output_type": "stream",
     "text": [
      "0.7969018159993049\n"
     ]
    }
   ],
   "source": [
    "print(grid.best_score_)"
   ]
  },
  {
   "cell_type": "code",
   "execution_count": 8,
   "metadata": {},
   "outputs": [
    {
     "name": "stdout",
     "output_type": "stream",
     "text": [
      "{'alpha': 100, 'l1_ratio': 0.8}\n"
     ]
    }
   ],
   "source": [
    "print(grid.best_params_)"
   ]
  },
  {
   "cell_type": "markdown",
   "metadata": {},
   "source": [
    "## Combine all together"
   ]
  },
  {
   "cell_type": "code",
   "execution_count": 9,
   "metadata": {},
   "outputs": [],
   "source": [
    "def grid_search(reg, param_grid, X_train, y_train):\n",
    "    \n",
    "    kfold = KFold(n_splits=5, shuffle=True)\n",
    "    \n",
    "    grid = GridSearchCV(estimator = reg, \n",
    "                        param_grid = param_grid, \n",
    "                        scoring = 'r2', \n",
    "                        cv = kfold)\n",
    "    grid.fit(X_train, y_train)\n",
    "    print('R2 score: %.2f' %grid.best_score_)\n",
    "    \n",
    "    return grid.best_estimator_"
   ]
  },
  {
   "cell_type": "code",
   "execution_count": 10,
   "metadata": {},
   "outputs": [
    {
     "name": "stdout",
     "output_type": "stream",
     "text": [
      "R2 score: 0.80\n",
      "RMSE = 96.48\n"
     ]
    }
   ],
   "source": [
    "reg = ElasticNet()\n",
    "#reg_best = grid_search(reg, param_grid, X_train, y_train)\n",
    "reg_best = grid_search(reg, {}, X_train, y_train)\n",
    "y_pred = reg_best.predict(X_test)\n",
    "print('RMSE = %.2f' %mean_squared_error(y_test,y_pred,squared=False))"
   ]
  },
  {
   "cell_type": "code",
   "execution_count": null,
   "metadata": {},
   "outputs": [],
   "source": []
  }
 ],
 "metadata": {
  "kernelspec": {
   "display_name": "Python 3",
   "language": "python",
   "name": "python3"
  },
  "language_info": {
   "codemirror_mode": {
    "name": "ipython",
    "version": 3
   },
   "file_extension": ".py",
   "mimetype": "text/x-python",
   "name": "python",
   "nbconvert_exporter": "python",
   "pygments_lexer": "ipython3",
   "version": "3.7.3"
  }
 },
 "nbformat": 4,
 "nbformat_minor": 2
}
