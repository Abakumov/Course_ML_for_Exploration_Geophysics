{
 "cells": [
  {
   "cell_type": "markdown",
   "metadata": {},
   "source": [
    "# Short Course: Machine Learning for Exploration Geophysics\n",
    "\n",
    "Hamburg, 10. - 12. March 2020\n",
    "\n",
    "#### Computer Class 2.2: Random Forest\n",
    "\n",
    "Table of Content:\n",
    "- [Packages](#Packages)\n",
    "- [Import and preprocess the dataset](#Import-and-preprocess-the-dataset)\n",
    "- [Random forest](#Random-forest)\n",
    "- [Visualize the results](#Visualize-the-results)"
   ]
  },
  {
   "cell_type": "markdown",
   "metadata": {},
   "source": [
    "## Packages\n",
    "\n",
    "Let's first import all the packages: \n",
    "- [numpy](https://www.numpy.org/) is the fundamental package for scientific computing with Python.\n",
    "- [pandas](https://pandas.pydata.org/) is a software library for data manipulation and analysis.\n",
    "- [matplotlib](https://matplotlib.org/) is a comprehensive library for creating static, animated, and interactive visualizations in Python.\n",
    "- [seaborn](https://seaborn.pydata.org/) is a statistical data visualization library based on matplotlib.\n",
    "- [scikit-learn](https://scikit-learn.org/stable/) is a simple and efficient tools for predictive data analysis."
   ]
  },
  {
   "cell_type": "code",
   "execution_count": 1,
   "metadata": {},
   "outputs": [],
   "source": [
    "#!pip install pandas\n",
    "#!pip install -U scikit-learn\n",
    "\n",
    "#!python -m pip install -U pip\n",
    "#!python -m pip install -U matplotlib\n",
    "\n",
    "#!pip install pandas\n",
    "\n",
    "#!pip install seaborn"
   ]
  },
  {
   "cell_type": "code",
   "execution_count": 2,
   "metadata": {},
   "outputs": [
    {
     "name": "stdout",
     "output_type": "stream",
     "text": [
      "Pandas:  0.24.2\n",
      "Numpy:   1.17.4\n",
      "Sklearn: 0.22.2.post1\n"
     ]
    }
   ],
   "source": [
    "import numpy as np\n",
    "import pandas as pd\n",
    "import matplotlib as mpl\n",
    "import matplotlib.pyplot as plt\n",
    "import seaborn as sns\n",
    "import sklearn\n",
    "\n",
    "from sklearn.model_selection import train_test_split\n",
    "from sklearn.preprocessing import StandardScaler\n",
    "from sklearn.linear_model import LinearRegression\n",
    "from sklearn.metrics import mean_squared_error\n",
    "\n",
    "from sklearn.preprocessing import PolynomialFeatures\n",
    "from sklearn.pipeline import make_pipeline\n",
    "\n",
    "from sklearn.linear_model import Ridge\n",
    "from sklearn.linear_model import Lasso\n",
    "from sklearn.linear_model import ElasticNet\n",
    "\n",
    "from sklearn.model_selection import KFold\n",
    "from sklearn.linear_model import RidgeCV\n",
    "\n",
    "import warnings\n",
    "warnings.filterwarnings('ignore')\n",
    "\n",
    "print('Pandas:  ' + pd.__version__)\n",
    "print('Numpy:   ' + np.__version__)\n",
    "print('Sklearn: ' + sklearn.__version__)"
   ]
  },
  {
   "cell_type": "markdown",
   "metadata": {},
   "source": [
    "## Import and preprocess the dataset"
   ]
  },
  {
   "cell_type": "code",
   "execution_count": 3,
   "metadata": {},
   "outputs": [],
   "source": [
    "df = pd.read_csv('data/berlin_flat_price.csv')\n",
    "df['Price'] = df['Price']/1000;  # in 1000s euro\n",
    "\n",
    "X = df[['Size']].values\n",
    "y = df['Price'].values    \n",
    "\n",
    "scaler = StandardScaler()\n",
    "scaler.fit(X)\n",
    "X_scaled = scaler.transform(X)\n",
    "\n",
    "#X_scaled.mean()\n",
    "#X_scaled.std()\n",
    "\n",
    "X_train, X_test, y_train, y_test = train_test_split(X, y, test_size=0.2, random_state=1, shuffle=False)"
   ]
  },
  {
   "cell_type": "markdown",
   "metadata": {},
   "source": [
    "## Random forest"
   ]
  },
  {
   "cell_type": "code",
   "execution_count": 11,
   "metadata": {},
   "outputs": [
    {
     "data": {
      "text/plain": [
       "RandomForestRegressor(bootstrap=True, ccp_alpha=0.0, criterion='mse',\n",
       "                      max_depth=4, max_features='auto', max_leaf_nodes=None,\n",
       "                      max_samples=None, min_impurity_decrease=0.0,\n",
       "                      min_impurity_split=None, min_samples_leaf=1,\n",
       "                      min_samples_split=2, min_weight_fraction_leaf=0.0,\n",
       "                      n_estimators=300, n_jobs=None, oob_score=False,\n",
       "                      random_state=1, verbose=0, warm_start=False)"
      ]
     },
     "execution_count": 11,
     "metadata": {},
     "output_type": "execute_result"
    }
   ],
   "source": [
    "from sklearn.ensemble import RandomForestRegressor\n",
    "\n",
    "reg = RandomForestRegressor(n_estimators = 300, max_depth = 4, random_state=1)\n",
    "reg.fit(X_train, y_train)\n",
    "\n"
   ]
  },
  {
   "cell_type": "markdown",
   "metadata": {},
   "source": [
    "## Visualize the results"
   ]
  },
  {
   "cell_type": "code",
   "execution_count": 9,
   "metadata": {},
   "outputs": [
    {
     "data": {
      "image/png": "[encoded data removed]",
      "text/plain": [
       "<Figure size 432x288 with 1 Axes>"
      ]
     },
     "metadata": {
      "needs_background": "light"
     },
     "output_type": "display_data"
    }
   ],
   "source": [
    "X_plot = np.arange(min(X),max(X),0.01)\n",
    "X_plot = np.matrix(X_plot).T\n",
    "\n",
    "fig = plt.figure()\n",
    "plt.scatter(X_train, y_train, color='black', marker='o', label=\"training points\")\n",
    "plt.plot(X_plot, reg.predict(X_plot), color='blue')\n",
    "plt.xlabel('Size ($m^2$)')\n",
    "plt.ylabel('Price (in 1000s of euro)')\n",
    "plt.title('Housing Prices in Berlin')\n",
    "plt.legend(loc='lower right')\n",
    "plt.show()\n",
    "fig.tight_layout()"
   ]
  }
 ],
 "metadata": {
  "kernelspec": {
   "display_name": "Python 3",
   "language": "python",
   "name": "python3"
  },
  "language_info": {
   "codemirror_mode": {
    "name": "ipython",
    "version": 3
   },
   "file_extension": ".py",
   "mimetype": "text/x-python",
   "name": "python",
   "nbconvert_exporter": "python",
   "pygments_lexer": "ipython3",
   "version": "3.7.3"
  }
 },
 "nbformat": 4,
 "nbformat_minor": 2
}
