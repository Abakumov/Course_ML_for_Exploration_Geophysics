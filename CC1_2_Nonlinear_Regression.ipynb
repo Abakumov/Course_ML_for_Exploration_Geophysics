{
 "cells": [
  {
   "cell_type": "markdown",
   "metadata": {},
   "source": [
    "# Short Course: Machine Learning for Exploration Geophysics\n",
    "\n",
    "Hamburg, 10. - 12. March 2020\n",
    "\n",
    "#### Computer Class 1.2: Nonlinear Regression\n",
    "\n",
    "Table of Content:\n",
    "- [Packages](#Packages)\n",
    "- [Import and preprocess the dataset](#Import-and-preprocess-the-dataset)\n",
    "- [Polynomial Regression](#Polynomial-Regression)\n",
    "- [Make pipeline](#Make-pipeline)\n",
    "- [Visualize the results](#Visualize-the-results)\n",
    "- [Regression with regularizer](#Regression-with-regularizer)\n",
    "- [Cross Validation](#Cross-Validation)"
   ]
  },
  {
   "cell_type": "markdown",
   "metadata": {},
   "source": [
    "## Packages\n",
    "\n",
    "Let's first import all the packages: \n",
    "- [numpy](https://www.numpy.org/) is the fundamental package for scientific computing with Python.\n",
    "- [pandas](https://pandas.pydata.org/) is a software library for data manipulation and analysis.\n",
    "- [matplotlib](https://matplotlib.org/) is a comprehensive library for creating static, animated, and interactive visualizations in Python.\n",
    "- [seaborn](https://seaborn.pydata.org/) is a statistical data visualization library based on matplotlib.\n",
    "- [scikit-learn](https://scikit-learn.org/stable/) is a simple and efficient tools for predictive data analysis."
   ]
  },
  {
   "cell_type": "code",
   "execution_count": 1,
   "metadata": {},
   "outputs": [],
   "source": [
    "#!pip install pandas\n",
    "#!pip install -U scikit-learn\n",
    "\n",
    "#!python -m pip install -U pip\n",
    "#!python -m pip install -U matplotlib\n",
    "\n",
    "#!pip install pandas\n",
    "\n",
    "#!pip install seaborn"
   ]
  },
  {
   "cell_type": "code",
   "execution_count": 2,
   "metadata": {},
   "outputs": [
    {
     "name": "stdout",
     "output_type": "stream",
     "text": [
      "Pandas:  0.24.2\n",
      "Numpy:   1.17.4\n",
      "Sklearn: 0.22.2.post1\n"
     ]
    }
   ],
   "source": [
    "import numpy as np\n",
    "import pandas as pd\n",
    "import matplotlib as mpl\n",
    "import matplotlib.pyplot as plt\n",
    "import seaborn as sns\n",
    "import sklearn\n",
    "\n",
    "from sklearn.model_selection import train_test_split\n",
    "from sklearn.preprocessing import StandardScaler\n",
    "from sklearn.linear_model import LinearRegression\n",
    "from sklearn.metrics import mean_squared_error\n",
    "\n",
    "from sklearn.preprocessing import PolynomialFeatures\n",
    "from sklearn.pipeline import make_pipeline\n",
    "\n",
    "from sklearn.linear_model import Ridge\n",
    "from sklearn.linear_model import Lasso\n",
    "from sklearn.linear_model import ElasticNet\n",
    "\n",
    "from sklearn.model_selection import KFold\n",
    "from sklearn.linear_model import RidgeCV\n",
    "\n",
    "import warnings\n",
    "warnings.filterwarnings('ignore')\n",
    "\n",
    "print('Pandas:  ' + pd.__version__)\n",
    "print('Numpy:   ' + np.__version__)\n",
    "print('Sklearn: ' + sklearn.__version__)"
   ]
  },
  {
   "cell_type": "markdown",
   "metadata": {},
   "source": [
    "## Import and preprocess the dataset"
   ]
  },
  {
   "cell_type": "code",
   "execution_count": 3,
   "metadata": {},
   "outputs": [],
   "source": [
    "df = pd.read_csv('data/berlin_flat_price.csv')\n",
    "df['Price'] = df['Price']/1000;  # in 1000s euro\n",
    "\n",
    "X = df[['Size']].values\n",
    "y = df['Price'].values    \n",
    "\n",
    "scaler = StandardScaler()\n",
    "scaler.fit(X)\n",
    "X_scaled = scaler.transform(X)\n",
    "\n",
    "#X_scaled.mean()\n",
    "#X_scaled.std()\n",
    "\n",
    "X_train, X_test, y_train, y_test = train_test_split(X, y, test_size=0.2, random_state=1, shuffle=False)"
   ]
  },
  {
   "cell_type": "markdown",
   "metadata": {},
   "source": [
    "## Polynomial Regression\n",
    "\n",
    "#### Polynomial features\n",
    "Idea: Generate a new feature matrix $X$ consisting of all polynomial combinations of the features with degree less than or equal to the specified 'degree'. \n",
    "\n",
    "Example: if an input sample is two dimensional and of the form $[a, b]$, the degree-2 polynomial features are $[1, a, b, a^2, ab, b^2]$.\n",
    "\n",
    "Use function [PolynomialFeatures](https://scikit-learn.org/stable/modules/generated/sklearn.preprocessing.PolynomialFeatures.html) to generate polynomial and interaction features:"
   ]
  },
  {
   "cell_type": "code",
   "execution_count": 4,
   "metadata": {},
   "outputs": [
    {
     "name": "stdout",
     "output_type": "stream",
     "text": [
      "(124, 1)\n",
      "(124, 5)\n"
     ]
    }
   ],
   "source": [
    "print(X_train.shape)\n",
    "\n",
    "degree = 4\n",
    "poly = PolynomialFeatures(degree)\n",
    "X_train_poly = poly.fit_transform(X_train)\n",
    "X_test_poly = poly.fit_transform(X_test)\n",
    "\n",
    "print(X_train_poly.shape)"
   ]
  },
  {
   "cell_type": "markdown",
   "metadata": {},
   "source": [
    "#### Linear Regression"
   ]
  },
  {
   "cell_type": "code",
   "execution_count": 5,
   "metadata": {},
   "outputs": [
    {
     "name": "stdout",
     "output_type": "stream",
     "text": [
      "Linear Regression score: 0.8257816688788631\n",
      "Linear Regression RMSE: 96.53505606589923\n",
      "Parameter b: -54.5158939192508\n",
      "Parameter w: [5.57343474]\n"
     ]
    }
   ],
   "source": [
    "Lreg = LinearRegression()\n",
    "# train\n",
    "Lreg.fit(X_train, y_train)\n",
    "# predict\n",
    "y_pred = Lreg.predict(X_test)\n",
    "\n",
    "# results:\n",
    "print('Linear Regression score: ' + str(Lreg.score(X_train,y_train)))\n",
    "print('Linear Regression RMSE: ' + str(mean_squared_error(y_test, y_pred, squared=False)))\n",
    "print('Parameter b: ' + str(Lreg.intercept_))\n",
    "print('Parameter w: ' + str(Lreg.coef_))"
   ]
  },
  {
   "cell_type": "markdown",
   "metadata": {},
   "source": [
    "#### Polynomial Regression"
   ]
  },
  {
   "cell_type": "code",
   "execution_count": 6,
   "metadata": {},
   "outputs": [
    {
     "name": "stdout",
     "output_type": "stream",
     "text": [
      "Polynomial Regression score: 0.8556569317645617\n",
      "Polynomial Regression RMSE: 96.0883655018257\n",
      "Parameter b: 0.0\n",
      "Parameter w: [-1.28429179e+02  1.75652385e+01 -3.71234553e-01  3.87388312e-03\n",
      " -1.28228443e-05]\n"
     ]
    }
   ],
   "source": [
    "Preg = LinearRegression(fit_intercept=False)\n",
    "# train\n",
    "Preg.fit(X_train_poly, y_train)\n",
    "# predict\n",
    "y_pred = Preg.predict(X_test_poly)\n",
    "\n",
    "# results:\n",
    "print('Polynomial Regression score: ' + str(Preg.score(X_train_poly,y_train)))\n",
    "print('Polynomial Regression RMSE: ' + str(mean_squared_error(y_test, y_pred, squared=False)))\n",
    "print('Parameter b: ' + str(Preg.intercept_))\n",
    "print('Parameter w: ' + str(Preg.coef_))"
   ]
  },
  {
   "cell_type": "markdown",
   "metadata": {},
   "source": [
    "## Make pipeline\n",
    "\n",
    "It is convenient to combine several steps in the pipeline:\n",
    "\n",
    "- Example 1: PolynomialFeatures(degree) -> LinearRegression()\n",
    "- Example 2: StandardScaler() -> PolynomialFeatures(degree) -> LinearRegression()\n",
    "\n",
    "Use [make_pipeline](https://scikit-learn.org/stable/modules/generated/sklearn.pipeline.make_pipeline.html) for that!\n",
    "\n"
   ]
  },
  {
   "cell_type": "code",
   "execution_count": 7,
   "metadata": {},
   "outputs": [
    {
     "data": {
      "text/plain": [
       "Pipeline(memory=None,\n",
       "         steps=[('standardscaler',\n",
       "                 StandardScaler(copy=True, with_mean=True, with_std=True)),\n",
       "                ('polynomialfeatures',\n",
       "                 PolynomialFeatures(degree=4, include_bias=True,\n",
       "                                    interaction_only=False, order='C')),\n",
       "                ('linearregression',\n",
       "                 LinearRegression(copy_X=True, fit_intercept=True, n_jobs=None,\n",
       "                                  normalize=False))],\n",
       "         verbose=False)"
      ]
     },
     "execution_count": 7,
     "metadata": {},
     "output_type": "execute_result"
    }
   ],
   "source": [
    "poly_reg = make_pipeline(StandardScaler(),PolynomialFeatures(degree=4), LinearRegression())\n",
    "poly_reg.fit(X_train, y_train)"
   ]
  },
  {
   "cell_type": "markdown",
   "metadata": {},
   "source": [
    "## Visualize the results"
   ]
  },
  {
   "cell_type": "code",
   "execution_count": 8,
   "metadata": {},
   "outputs": [
    {
     "name": "stdout",
     "output_type": "stream",
     "text": [
      "Polynomial Regression degree 1:   Train RMSE: 72.39    Test RMSE: 96.54\n",
      "Polynomial Regression degree 2:   Train RMSE: 68.47    Test RMSE: 91.38\n",
      "Polynomial Regression degree 3:   Train RMSE: 67.09    Test RMSE: 94.21\n",
      "Polynomial Regression degree 4:   Train RMSE: 65.89    Test RMSE: 96.09\n",
      "Polynomial Regression degree 5:   Train RMSE: 64.59    Test RMSE: 98.94\n"
     ]
    },
    {
     "data": {
      "image/png": "[encoded data removed]",
      "text/plain": [
       "<Figure size 432x288 with 1 Axes>"
      ]
     },
     "metadata": {
      "needs_background": "light"
     },
     "output_type": "display_data"
    }
   ],
   "source": [
    "X_plot = np.linspace(0,150,150)\n",
    "X_plot = np.matrix(X_plot).T\n",
    "\n",
    "fig = plt.figure()\n",
    "plt.scatter(X_train, y_train, color='black', marker='o', label=\"training points\")\n",
    "for count, degree in enumerate([1, 2, 3, 4, 5]):\n",
    "    poly_reg = make_pipeline(StandardScaler(),PolynomialFeatures(degree), LinearRegression(fit_intercept=False))\n",
    "    poly_reg.fit(X_train, y_train)\n",
    "    y_plot = poly_reg.predict(X_plot)\n",
    "    plt.plot(X_plot, y_plot, linewidth=2, label=\"degree %d\" % degree)\n",
    "    print('Polynomial Regression degree %d:' % degree \n",
    "          + '   Train RMSE: ' + '%.2f' % mean_squared_error(y_train, poly_reg.predict(X_train), squared=False)\n",
    "          + '    Test RMSE: ' + '%.2f' % mean_squared_error(y_test, poly_reg.predict(X_test), squared=False))\n",
    "\n",
    "plt.xlabel('Size ($m^2$)')\n",
    "plt.ylabel('Price (in 1000s of euro)')\n",
    "plt.title('Housing Prices in Berlin')\n",
    "plt.legend(loc='lower right')\n",
    "plt.show()\n",
    "fig.tight_layout()\n",
    "fig.savefig(\"CC1_2_Figure_Polynomial_regression.png\", dpi=300)"
   ]
  },
  {
   "cell_type": "markdown",
   "metadata": {},
   "source": [
    "## Regression with regularization\n",
    "\n",
    "- [Ridge](https://scikit-learn.org/stable/modules/generated/sklearn.linear_model.Ridge.html#sklearn.linear_model.Ridge)\n",
    "- [Lasso](https://scikit-learn.org/stable/modules/generated/sklearn.linear_model.Lasso.html#sklearn.linear_model.Lasso)\n",
    "- [ElasticNet](https://scikit-learn.org/stable/modules/generated/sklearn.linear_model.ElasticNet.html#sklearn.linear_model.ElasticNet)    \n",
    "    \n",
    "#### Ridge\n",
    "\n",
    "Linear least squares with $L_2$ regularization. Minimizes the objective function:\n",
    "\n",
    "$$J = \\frac{1}{2N} |y - Xw|^2_2 + \\alpha \\sum_i w_i^2$$\n",
    "\n",
    "\n",
    "#### Lasso\n",
    "\n",
    "Linear Model trained with $L_1$ regularization. The optimization objective for Lasso is:\n",
    " \n",
    "$$J = \\frac{1}{2N} |y - Xw|^2_2 + \\alpha \\sum_i |w|$$\n",
    "\n",
    "\n",
    "#### ElasticNet\n",
    "\n",
    "Linear regression with combined $L_1$ and $L_2$ priors as regularizer. Minimizes the objective function:\n",
    "\n",
    "$$J = \\frac{1}{2N} |y - Xw|^2_2 + \\alpha \\gamma \\sum_i |w| +  \\alpha  (1 - \\gamma) \\frac{1}{2}\\sum_i w_i^2$$\n",
    "\n",
    "- $ \\gamma = 1$: ElasticNet -> Lasso\n",
    "- $ \\gamma = 0$: ElasticNet -> Ridge\n",
    "\n",
    "\n",
    "\n",
    "\n",
    "\n",
    "\n",
    "\n",
    "\n"
   ]
  },
  {
   "cell_type": "code",
   "execution_count": 9,
   "metadata": {},
   "outputs": [
    {
     "name": "stdout",
     "output_type": "stream",
     "text": [
      "Polynomial Regression degree 2 with L2 regularization:   Train RMSE: 68.58    Test RMSE: 88.90\n"
     ]
    }
   ],
   "source": [
    "poly_reg = make_pipeline(StandardScaler(), PolynomialFeatures(degree=2), Ridge(alpha=1, fit_intercept=False))\n",
    "poly_reg.fit(X_train, y_train)\n",
    "\n",
    "print('Polynomial Regression degree %d with L2 regularization:' % 2\n",
    "    + '   Train RMSE: ' + '%.2f' % mean_squared_error(y_train, poly_reg.predict(X_train), squared=False)\n",
    "    + '    Test RMSE: ' + '%.2f' % mean_squared_error(y_test, poly_reg.predict(X_test), squared=False))\n"
   ]
  },
  {
   "cell_type": "markdown",
   "metadata": {},
   "source": [
    "## Cross Validation\n",
    "\n",
    "[RidgeCV](https://scikit-learn.org/stable/modules/generated/sklearn.linear_model.RidgeCV.html#sklearn.linear_model.RidgeCV) function combines Ridge and Cross Validation:"
   ]
  },
  {
   "cell_type": "code",
   "execution_count": 10,
   "metadata": {},
   "outputs": [
    {
     "data": {
      "text/plain": [
       "Pipeline(memory=None,\n",
       "         steps=[('standardscaler',\n",
       "                 StandardScaler(copy=True, with_mean=True, with_std=True)),\n",
       "                ('polynomialfeatures',\n",
       "                 PolynomialFeatures(degree=2, include_bias=True,\n",
       "                                    interaction_only=False, order='C')),\n",
       "                ('ridgecv',\n",
       "                 RidgeCV(alphas=array([ 0.0625,  0.125 ,  0.25  ,  0.5   ,  1.    ,  2.    ,  4.    ,\n",
       "        8.    , 16.    , 32.    ]),\n",
       "                         cv=5, fit_intercept=False, gcv_mode=None,\n",
       "                         normalize=False, scoring=None,\n",
       "                         store_cv_values=False))],\n",
       "         verbose=False)"
      ]
     },
     "execution_count": 10,
     "metadata": {},
     "output_type": "execute_result"
    }
   ],
   "source": [
    "test_alphas = np.array([0.0625, 0.125, 0.25, 0.5, 1, 2, 4, 8, 16, 32])\n",
    "\n",
    "poly_reg_CV = make_pipeline(StandardScaler(), PolynomialFeatures(degree=2), \n",
    "                            RidgeCV(alphas=test_alphas, fit_intercept=False, cv=5))\n",
    "poly_reg_CV.fit(X_train, y_train)\n"
   ]
  },
  {
   "cell_type": "code",
   "execution_count": 11,
   "metadata": {},
   "outputs": [
    {
     "name": "stdout",
     "output_type": "stream",
     "text": [
      "Polynomial Regression degree 2 with L2 regularization and CV:   Train RMSE: 69.99    Test RMSE: 82.41\n"
     ]
    }
   ],
   "source": [
    "print('Polynomial Regression degree %d with L2 regularization and CV:' % 2\n",
    "    + '   Train RMSE: ' + '%.2f' % mean_squared_error(y_train, poly_reg_CV.predict(X_train), squared=False)\n",
    "    + '    Test RMSE: ' + '%.2f' % mean_squared_error(y_test, poly_reg_CV.predict(X_test), squared=False))"
   ]
  }
 ],
 "metadata": {
  "kernelspec": {
   "display_name": "Python 3",
   "language": "python",
   "name": "python3"
  },
  "language_info": {
   "codemirror_mode": {
    "name": "ipython",
    "version": 3
   },
   "file_extension": ".py",
   "mimetype": "text/x-python",
   "name": "python",
   "nbconvert_exporter": "python",
   "pygments_lexer": "ipython3",
   "version": "3.7.3"
  }
 },
 "nbformat": 4,
 "nbformat_minor": 2
}
