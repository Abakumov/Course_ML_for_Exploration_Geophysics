{
 "cells": [
  {
   "cell_type": "markdown",
   "metadata": {},
   "source": [
    "# Short Course: Machine Learning for Exploration Geophysics\n",
    "\n",
    "Hamburg, 10. - 12. March 2020\n",
    "\n",
    "#### Computer Class 5.1: Example DNN\n",
    "\n",
    "Table of Content:\n",
    "- [Packages](#Packages)\n",
    "- [Import and preprocess the dataset](#Import-and-preprocess-the-dataset)\n",
    "- [Visualize-the-results](Visualize-the-results)"
   ]
  },
  {
   "cell_type": "markdown",
   "metadata": {},
   "source": [
    "## Packages\n",
    "\n",
    "Let's first import all the packages: \n",
    "- [numpy](https://www.numpy.org/) is the fundamental package for scientific computing with Python.\n",
    "- [pandas](https://pandas.pydata.org/) is a software library for data manipulation and analysis.\n",
    "- [matplotlib](https://matplotlib.org/) is a comprehensive library for creating static, animated, and interactive visualizations in Python.\n",
    "- [seaborn](https://seaborn.pydata.org/) is a statistical data visualization library based on matplotlib.\n",
    "- [scikit-learn](https://scikit-learn.org/stable/) is a simple and efficient tools for predictive data analysis.\n",
    "- [tensorflow](https://www.tensorflow.org/) is an end-to-end open source machine learning platform. "
   ]
  },
  {
   "cell_type": "code",
   "execution_count": 1,
   "metadata": {},
   "outputs": [],
   "source": [
    "#!pip install pandas\n",
    "#!pip install -U scikit-learn\n",
    "\n",
    "#!python -m pip install -U pip\n",
    "#!python -m pip install -U matplotlib\n",
    "\n",
    "#!pip install pandas\n",
    "\n",
    "#!pip install seaborn\n",
    "\n",
    "#!pip install tensorflow"
   ]
  },
  {
   "cell_type": "code",
   "execution_count": 2,
   "metadata": {},
   "outputs": [
    {
     "name": "stdout",
     "output_type": "stream",
     "text": [
      "Pandas:  0.24.2\n",
      "Numpy:   1.17.4\n",
      "Sklearn: 0.22.2.post1\n"
     ]
    },
    {
     "name": "stderr",
     "output_type": "stream",
     "text": [
      "Using TensorFlow backend.\n"
     ]
    }
   ],
   "source": [
    "import numpy as np\n",
    "import pandas as pd\n",
    "import matplotlib as mpl\n",
    "import matplotlib.pyplot as plt\n",
    "import seaborn as sns\n",
    "import sklearn\n",
    "\n",
    "from sklearn.model_selection import train_test_split\n",
    "\n",
    "from tensorflow import keras\n",
    "from tensorflow.keras import layers\n",
    "from keras.utils import np_utils\n",
    "\n",
    "\n",
    "import warnings\n",
    "warnings.filterwarnings('ignore')\n",
    "\n",
    "print('Pandas:  ' + pd.__version__)\n",
    "print('Numpy:   ' + np.__version__)\n",
    "print('Sklearn: ' + sklearn.__version__)"
   ]
  },
  {
   "cell_type": "markdown",
   "metadata": {},
   "source": [
    "## Import and preprocess the dataset"
   ]
  },
  {
   "cell_type": "markdown",
   "metadata": {},
   "source": [
    "We will use the [MNIST database](http://yann.lecun.com/exdb/mnist/) of handwritten digits, that, has a training set of 60,000 examples, and a test set of 10,000 examples. It is a subset of a larger set available from NIST. The digits have been size-normalized and centered in a fixed-size image. "
   ]
  },
  {
   "cell_type": "code",
   "execution_count": 3,
   "metadata": {},
   "outputs": [],
   "source": [
    "from keras.datasets import mnist\n",
    "\n",
    "(X_train, Y_train), (X_test, Y_test) = mnist.load_data()"
   ]
  },
  {
   "cell_type": "markdown",
   "metadata": {},
   "source": [
    "## Explore the data"
   ]
  },
  {
   "cell_type": "code",
   "execution_count": 4,
   "metadata": {},
   "outputs": [
    {
     "name": "stdout",
     "output_type": "stream",
     "text": [
      "size of training images: (60000, 28, 28)\n",
      "size of training labels: (60000,)\n",
      "size of test images: (10000, 28, 28)\n",
      "size of test labels: (10000,)\n"
     ]
    }
   ],
   "source": [
    "print('size of training images:', X_train.shape)\n",
    "print('size of training labels:', Y_train.shape)\n",
    "print('size of test images:', X_test.shape)\n",
    "print('size of test labels:', Y_test.shape)"
   ]
  },
  {
   "cell_type": "code",
   "execution_count": 5,
   "metadata": {},
   "outputs": [
    {
     "data": {
      "text/plain": [
       "<matplotlib.image.AxesImage at 0x1c51b2a7128>"
      ]
     },
     "execution_count": 5,
     "metadata": {},
     "output_type": "execute_result"
    },
    {
     "data": {
      "image/png": "[encoded data removed]",
      "text/plain": [
       "<Figure size 432x288 with 1 Axes>"
      ]
     },
     "metadata": {
      "needs_background": "light"
     },
     "output_type": "display_data"
    }
   ],
   "source": [
    "sample = 12\n",
    "image = X_train[sample].squeeze()\n",
    "plt.title('Example %d. Label: %d' % (sample, Y_train[sample]))\n",
    "plt.imshow(image, cmap=plt.cm.gray_r)"
   ]
  },
  {
   "cell_type": "markdown",
   "metadata": {},
   "source": [
    "### The number of unique entries for each number"
   ]
  },
  {
   "cell_type": "code",
   "execution_count": 6,
   "metadata": {},
   "outputs": [
    {
     "data": {
      "text/html": [
       "<div>\n",
       "<style scoped>\n",
       "    .dataframe tbody tr th:only-of-type {\n",
       "        vertical-align: middle;\n",
       "    }\n",
       "\n",
       "    .dataframe tbody tr th {\n",
       "        vertical-align: top;\n",
       "    }\n",
       "\n",
       "    .dataframe thead th {\n",
       "        text-align: right;\n",
       "    }\n",
       "</style>\n",
       "<table border=\"1\" class=\"dataframe\">\n",
       "  <thead>\n",
       "    <tr style=\"text-align: right;\">\n",
       "      <th></th>\n",
       "      <th>Label</th>\n",
       "      <th>Count</th>\n",
       "    </tr>\n",
       "  </thead>\n",
       "  <tbody>\n",
       "    <tr>\n",
       "      <th>0</th>\n",
       "      <td>0</td>\n",
       "      <td>5923</td>\n",
       "    </tr>\n",
       "    <tr>\n",
       "      <th>1</th>\n",
       "      <td>1</td>\n",
       "      <td>6742</td>\n",
       "    </tr>\n",
       "    <tr>\n",
       "      <th>2</th>\n",
       "      <td>2</td>\n",
       "      <td>5958</td>\n",
       "    </tr>\n",
       "    <tr>\n",
       "      <th>3</th>\n",
       "      <td>3</td>\n",
       "      <td>6131</td>\n",
       "    </tr>\n",
       "    <tr>\n",
       "      <th>4</th>\n",
       "      <td>4</td>\n",
       "      <td>5842</td>\n",
       "    </tr>\n",
       "    <tr>\n",
       "      <th>5</th>\n",
       "      <td>5</td>\n",
       "      <td>5421</td>\n",
       "    </tr>\n",
       "    <tr>\n",
       "      <th>6</th>\n",
       "      <td>6</td>\n",
       "      <td>5918</td>\n",
       "    </tr>\n",
       "    <tr>\n",
       "      <th>7</th>\n",
       "      <td>7</td>\n",
       "      <td>6265</td>\n",
       "    </tr>\n",
       "    <tr>\n",
       "      <th>8</th>\n",
       "      <td>8</td>\n",
       "      <td>5851</td>\n",
       "    </tr>\n",
       "    <tr>\n",
       "      <th>9</th>\n",
       "      <td>9</td>\n",
       "      <td>5949</td>\n",
       "    </tr>\n",
       "  </tbody>\n",
       "</table>\n",
       "</div>"
      ],
      "text/plain": [
       "   Label  Count\n",
       "0      0   5923\n",
       "1      1   6742\n",
       "2      2   5958\n",
       "3      3   6131\n",
       "4      4   5842\n",
       "5      5   5421\n",
       "6      6   5918\n",
       "7      7   6265\n",
       "8      8   5851\n",
       "9      9   5949"
      ]
     },
     "execution_count": 6,
     "metadata": {},
     "output_type": "execute_result"
    }
   ],
   "source": [
    "count = np.unique(Y_train, return_counts=True)\n",
    "df = pd.DataFrame({'Label':count[0], 'Count':count[1]})\n",
    "df"
   ]
  },
  {
   "cell_type": "markdown",
   "metadata": {},
   "source": [
    "## Data Preprocessing\n",
    "\n",
    "NN algorithms benefit from standardization of the data set."
   ]
  },
  {
   "cell_type": "code",
   "execution_count": 7,
   "metadata": {},
   "outputs": [],
   "source": [
    "X_train = X_train.reshape(60000, 784)     \n",
    "X_test = X_test.reshape(10000, 784)\n",
    "#X_train = X_train.astype('float32')     \n",
    "#X_test = X_test.astype('float32')     \n",
    "X_train = X_train/255    \n",
    "X_test = X_test/255\n",
    "Y_train = np_utils.to_categorical(Y_train, 10)     \n",
    "Y_test = np_utils.to_categorical(Y_test, 10)"
   ]
  },
  {
   "cell_type": "markdown",
   "metadata": {},
   "source": [
    "## Create train and CV datasets"
   ]
  },
  {
   "cell_type": "code",
   "execution_count": 8,
   "metadata": {},
   "outputs": [
    {
     "name": "stdout",
     "output_type": "stream",
     "text": [
      "(48000, 784)\n",
      "(48000, 10)\n",
      "(12000, 784)\n",
      "(12000, 10)\n"
     ]
    }
   ],
   "source": [
    "X_train, X_val, y_train, y_val = train_test_split(X_train, Y_train, test_size=0.2)\n",
    "print(X_train.shape)\n",
    "print(y_train.shape)\n",
    "print(X_val.shape)\n",
    "print(y_val.shape)"
   ]
  },
  {
   "cell_type": "markdown",
   "metadata": {},
   "source": [
    "## DNN model\n",
    "\n",
    "- Size of input layer: 784\n",
    "- Size of hidden layer: 400\n",
    "- Output: 10"
   ]
  },
  {
   "cell_type": "code",
   "execution_count": 9,
   "metadata": {},
   "outputs": [
    {
     "name": "stdout",
     "output_type": "stream",
     "text": [
      "WARNING:tensorflow:From C:\\Users\\Admin\\Anaconda3\\lib\\site-packages\\tensorflow_core\\python\\ops\\resource_variable_ops.py:1630: calling BaseResourceVariable.__init__ (from tensorflow.python.ops.resource_variable_ops) with constraint is deprecated and will be removed in a future version.\n",
      "Instructions for updating:\n",
      "If using Keras pass *_constraint arguments to layers.\n",
      "Model: \"sequential\"\n",
      "_________________________________________________________________\n",
      "Layer (type)                 Output Shape              Param #   \n",
      "=================================================================\n",
      "dense (Dense)                (None, 400)               314000    \n",
      "_________________________________________________________________\n",
      "dense_1 (Dense)              (None, 10)                4010      \n",
      "=================================================================\n",
      "Total params: 318,010\n",
      "Trainable params: 318,010\n",
      "Non-trainable params: 0\n",
      "_________________________________________________________________\n",
      "None\n"
     ]
    }
   ],
   "source": [
    "model = keras.Sequential([\n",
    "    keras.layers.Dense(400, input_dim=784, activation='relu'),\n",
    "    keras.layers.Dense(10, activation=\"softmax\")\n",
    "])\n",
    "\n",
    "print(model.summary())"
   ]
  },
  {
   "cell_type": "code",
   "execution_count": 10,
   "metadata": {},
   "outputs": [],
   "source": [
    "model.compile(optimizer='adam',\n",
    "              loss='categorical_crossentropy', \n",
    "               metrics=['accuracy'])"
   ]
  },
  {
   "cell_type": "markdown",
   "metadata": {},
   "source": [
    "## Train the model\n",
    "\n",
    "- batch_size = 128   \n",
    "- epochs = 30\n"
   ]
  },
  {
   "cell_type": "code",
   "execution_count": 11,
   "metadata": {},
   "outputs": [
    {
     "name": "stdout",
     "output_type": "stream",
     "text": [
      "Train on 48000 samples, validate on 12000 samples\n",
      "Epoch 1/30\n",
      "48000/48000 [==============================] - 2s 37us/sample - loss: 0.3115 - acc: 0.9119 - val_loss: 0.1789 - val_acc: 0.9477\n",
      "Epoch 2/30\n",
      "48000/48000 [==============================] - 2s 35us/sample - loss: 0.1327 - acc: 0.9611 - val_loss: 0.1379 - val_acc: 0.9579\n",
      "Epoch 3/30\n",
      "48000/48000 [==============================] - 2s 36us/sample - loss: 0.0891 - acc: 0.9737 - val_loss: 0.1080 - val_acc: 0.9699\n",
      "Epoch 4/30\n",
      "48000/48000 [==============================] - 2s 35us/sample - loss: 0.0644 - acc: 0.9816 - val_loss: 0.0954 - val_acc: 0.9734\n",
      "Epoch 5/30\n",
      "48000/48000 [==============================] - 2s 36us/sample - loss: 0.0478 - acc: 0.9863 - val_loss: 0.0800 - val_acc: 0.9750\n",
      "Epoch 6/30\n",
      "48000/48000 [==============================] - 2s 35us/sample - loss: 0.0363 - acc: 0.9898 - val_loss: 0.0760 - val_acc: 0.9778\n",
      "Epoch 7/30\n",
      "48000/48000 [==============================] - 2s 37us/sample - loss: 0.0283 - acc: 0.9921 - val_loss: 0.0753 - val_acc: 0.9779\n",
      "Epoch 8/30\n",
      "48000/48000 [==============================] - 2s 43us/sample - loss: 0.0215 - acc: 0.9946 - val_loss: 0.0785 - val_acc: 0.9774\n",
      "Epoch 9/30\n",
      "48000/48000 [==============================] - 2s 44us/sample - loss: 0.0162 - acc: 0.9964 - val_loss: 0.0753 - val_acc: 0.9790\n",
      "Epoch 10/30\n",
      "48000/48000 [==============================] - 2s 35us/sample - loss: 0.0129 - acc: 0.9970 - val_loss: 0.0743 - val_acc: 0.9806\n",
      "Epoch 11/30\n",
      "48000/48000 [==============================] - 2s 35us/sample - loss: 0.0094 - acc: 0.9982 - val_loss: 0.0759 - val_acc: 0.9794\n",
      "Epoch 12/30\n",
      "48000/48000 [==============================] - 2s 36us/sample - loss: 0.0069 - acc: 0.9990 - val_loss: 0.0730 - val_acc: 0.9811\n",
      "Epoch 13/30\n",
      "48000/48000 [==============================] - 2s 36us/sample - loss: 0.0052 - acc: 0.9992 - val_loss: 0.0780 - val_acc: 0.9805\n",
      "Epoch 14/30\n",
      "48000/48000 [==============================] - 2s 36us/sample - loss: 0.0047 - acc: 0.9995 - val_loss: 0.0804 - val_acc: 0.9803\n",
      "Epoch 15/30\n",
      "48000/48000 [==============================] - 2s 35us/sample - loss: 0.0057 - acc: 0.9988 - val_loss: 0.0920 - val_acc: 0.9772\n",
      "Epoch 16/30\n",
      "48000/48000 [==============================] - 2s 36us/sample - loss: 0.0077 - acc: 0.9981 - val_loss: 0.0910 - val_acc: 0.9773\n",
      "Epoch 17/30\n",
      "48000/48000 [==============================] - 2s 36us/sample - loss: 0.0064 - acc: 0.9984 - val_loss: 0.1073 - val_acc: 0.9755\n",
      "Epoch 18/30\n",
      "48000/48000 [==============================] - 2s 35us/sample - loss: 0.0056 - acc: 0.9986 - val_loss: 0.0940 - val_acc: 0.9784\n",
      "Epoch 19/30\n",
      "48000/48000 [==============================] - 2s 35us/sample - loss: 0.0041 - acc: 0.9991 - val_loss: 0.0922 - val_acc: 0.9789\n",
      "Epoch 20/30\n",
      "48000/48000 [==============================] - 2s 36us/sample - loss: 0.0066 - acc: 0.9982 - val_loss: 0.0875 - val_acc: 0.9801\n",
      "Epoch 21/30\n",
      "48000/48000 [==============================] - 2s 35us/sample - loss: 0.0013 - acc: 0.9999 - val_loss: 0.0857 - val_acc: 0.9816\n",
      "Epoch 22/30\n",
      "48000/48000 [==============================] - 2s 35us/sample - loss: 6.4559e-04 - acc: 0.9999 - val_loss: 0.0832 - val_acc: 0.9828\n",
      "Epoch 23/30\n",
      "48000/48000 [==============================] - 2s 35us/sample - loss: 3.4620e-04 - acc: 1.0000 - val_loss: 0.0839 - val_acc: 0.9826\n",
      "Epoch 24/30\n",
      "48000/48000 [==============================] - 2s 35us/sample - loss: 2.8443e-04 - acc: 1.0000 - val_loss: 0.0853 - val_acc: 0.9825\n",
      "Epoch 25/30\n",
      "48000/48000 [==============================] - 2s 35us/sample - loss: 2.4375e-04 - acc: 1.0000 - val_loss: 0.0855 - val_acc: 0.9826\n",
      "Epoch 26/30\n",
      "48000/48000 [==============================] - 2s 36us/sample - loss: 2.1454e-04 - acc: 1.0000 - val_loss: 0.0864 - val_acc: 0.9828\n",
      "Epoch 27/30\n",
      "48000/48000 [==============================] - 2s 35us/sample - loss: 0.0021 - acc: 0.9994 - val_loss: 0.1441 - val_acc: 0.9726\n",
      "Epoch 28/30\n",
      "48000/48000 [==============================] - 2s 36us/sample - loss: 0.0229 - acc: 0.9929 - val_loss: 0.0925 - val_acc: 0.9801\n",
      "Epoch 29/30\n",
      "48000/48000 [==============================] - 2s 35us/sample - loss: 0.0028 - acc: 0.9994 - val_loss: 0.0971 - val_acc: 0.9802\n",
      "Epoch 30/30\n",
      "48000/48000 [==============================] - 2s 35us/sample - loss: 5.7521e-04 - acc: 1.0000 - val_loss: 0.0907 - val_acc: 0.9823\n"
     ]
    }
   ],
   "source": [
    "history = model.fit(X_train, y_train, validation_data=(X_val, y_val), batch_size=128, epochs=30)"
   ]
  },
  {
   "cell_type": "markdown",
   "metadata": {},
   "source": [
    "## Test the model"
   ]
  },
  {
   "cell_type": "code",
   "execution_count": 12,
   "metadata": {},
   "outputs": [
    {
     "name": "stdout",
     "output_type": "stream",
     "text": [
      "10000/10000 [==============================] - 0s 36us/sample - loss: 0.0881 - acc: 0.9807\n",
      "\n",
      "Test accuracy: 0.9807\n"
     ]
    }
   ],
   "source": [
    "score = model.evaluate(X_test, Y_test, verbose=1)\n",
    "print('\\n''Test accuracy:', score[1]) "
   ]
  }
 ],
 "metadata": {
  "kernelspec": {
   "display_name": "Python 3",
   "language": "python",
   "name": "python3"
  },
  "language_info": {
   "codemirror_mode": {
    "name": "ipython",
    "version": 3
   },
   "file_extension": ".py",
   "mimetype": "text/x-python",
   "name": "python",
   "nbconvert_exporter": "python",
   "pygments_lexer": "ipython3",
   "version": "3.7.3"
  }
 },
 "nbformat": 4,
 "nbformat_minor": 2
}
